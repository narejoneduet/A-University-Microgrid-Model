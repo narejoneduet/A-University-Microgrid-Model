{
  "nbformat": 4,
  "nbformat_minor": 0,
  "metadata": {
    "colab": {
      "private_outputs": true,
      "provenance": [],
      "authorship_tag": "ABX9TyMwDt8G5Ni0al1VRgXZtbID",
      "include_colab_link": true
    },
    "kernelspec": {
      "name": "python3",
      "display_name": "Python 3"
    },
    "language_info": {
      "name": "python"
    }
  },
  "cells": [
    {
      "cell_type": "markdown",
      "metadata": {
        "id": "view-in-github",
        "colab_type": "text"
      },
      "source": [
        "<a href=\"https://colab.research.google.com/github/narejoneduet/A-University-Microgrid-Model/blob/main/TF_Stress_US.ipynb\" target=\"_parent\"><img src=\"https://colab.research.google.com/assets/colab-badge.svg\" alt=\"Open In Colab\"/></a>"
      ]
    },
    {
      "cell_type": "code",
      "execution_count": null,
      "metadata": {
        "id": "9RByLFvNNvU7"
      },
      "outputs": [],
      "source": [
        "import matplotlib.pyplot as plt\n",
        "\n",
        "# Data for each state\n",
        "states = ['California', 'Texas', 'Florida', 'New York', 'Illinois']\n",
        "\n",
        "# Voltage and load data for each year\n",
        "voltages = {\n",
        "    'Peak': [120, 115, 118, 122, 119, 116, 111, 114, 118, 115],\n",
        "    'Normal': [115, 110, 113, 117, 114, 113, 108, 111, 115, 112]\n",
        "}\n",
        "\n",
        "loads = {\n",
        "    'Peak': [1000, 800, 900, 1100, 1000, 950, 750, 850, 1050, 950],\n",
        "    'Normal': [800, 600, 700, 900, 800, 750, 550, 650, 850, 750]\n",
        "}\n",
        "\n",
        "# Create a line chart for each state\n",
        "for i, state in enumerate(states):\n",
        "    plt.plot(\n",
        "        ['2023 Peak', '2023 Normal', '2022 Peak', '2022 Normal', '2021 Peak', '2021 Normal'],\n",
        "        [voltages['Peak'][i + 5], voltages['Normal'][i + 5],\n",
        "         voltages['Peak'][i + 0], voltages['Normal'][i + 0],\n",
        "         voltages['Peak'][i + 10], voltages['Normal'][i + 10]],\n",
        "        label=state,\n",
        "    )\n",
        "\n",
        "# Add labels and title\n",
        "plt.xlabel('Year and Load Condition')\n",
        "plt.ylabel('Voltage (V)')\n",
        "plt.title('Voltage Variations in Distribution Transformers across US States')\n",
        "\n",
        "# Add legend\n",
        "plt.legend()\n",
        "\n",
        "# Show the plot\n",
        "plt.show()\n"
      ]
    },
    {
      "cell_type": "code",
      "source": [
        "import matplotlib.pyplot as plt\n",
        "\n",
        "# Data for each state\n",
        "states = ['California', 'Texas', 'Florida', 'New York', 'Illinois']\n",
        "\n",
        "# Voltage and load data for each year\n",
        "voltages = {\n",
        "    'Peak': [120, 115, 118, 122, 119, 116, 111, 114, 118, 115],\n",
        "    'Normal': [115, 110, 113, 117, 114, 113, 108, 111, 115, 112]\n",
        "}\n",
        "\n",
        "loads = {\n",
        "    'Peak': [1000, 800, 900, 1100, 1000, 950, 750, 850, 1050, 950],\n",
        "    'Normal': [800, 600, 700, 900, 800, 750, 550, 650, 850, 750]\n",
        "}\n",
        "\n",
        "# Create a line chart for each state\n",
        "for i, state in enumerate(states):\n",
        "    plt.plot(\n",
        "        ['2023 Peak', '2023 Normal', '2022 Peak', '2022 Normal', '2021 Peak', '2021 Normal'],\n",
        "        [voltages['Peak'][i + 5], voltages['Normal'][i + 5],\n",
        "         voltages['Peak'][i + 0], voltages['Normal'][i + 0],\n",
        "         voltages['Peak'][i + 5], voltages['Normal'][i + 5]],\n",
        "        label=state,\n",
        "    )\n",
        "\n",
        "# Add labels and title\n",
        "plt.xlabel('Year and Load Condition')\n",
        "plt.ylabel('Voltage (V)')\n",
        "plt.title('Voltage Variations in Distribution Transformers across US States')\n",
        "\n",
        "# Add legend\n",
        "plt.legend()\n",
        "\n",
        "# Show the plot\n",
        "plt.show()\n"
      ],
      "metadata": {
        "id": "A8vhiRZaOR-A"
      },
      "execution_count": null,
      "outputs": []
    }
  ]
}