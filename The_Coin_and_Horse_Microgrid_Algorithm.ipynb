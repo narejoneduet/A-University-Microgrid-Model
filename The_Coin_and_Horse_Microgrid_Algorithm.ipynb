{
  "nbformat": 4,
  "nbformat_minor": 0,
  "metadata": {
    "colab": {
      "private_outputs": true,
      "provenance": [],
      "authorship_tag": "ABX9TyO6Fl9ty6eJqOkEkfedwt3a",
      "include_colab_link": true
    },
    "kernelspec": {
      "name": "python3",
      "display_name": "Python 3"
    },
    "language_info": {
      "name": "python"
    }
  },
  "cells": [
    {
      "cell_type": "markdown",
      "metadata": {
        "id": "view-in-github",
        "colab_type": "text"
      },
      "source": [
        "<a href=\"https://colab.research.google.com/github/narejoneduet/A-University-Microgrid-Model/blob/main/The_Coin_and_Horse_Microgrid_Algorithm.ipynb\" target=\"_parent\"><img src=\"https://colab.research.google.com/assets/colab-badge.svg\" alt=\"Open In Colab\"/></a>"
      ]
    },
    {
      "cell_type": "code",
      "execution_count": null,
      "metadata": {
        "id": "VktSKPleadn-"
      },
      "outputs": [],
      "source": [
        "import sympy as sym\n",
        "from sympy import symbols, Eq\n",
        "\n",
        "def calculate_microgrid(coin_value):\n",
        "    # Define the variables\n",
        "    x, y, z = symbols('x y z')\n",
        "\n",
        "    # Define the objective function\n",
        "    horse = sym.Symbol('horse')\n",
        "    objective_function = Eq(horse, (x - y - z) * 100)\n",
        "\n",
        "    # Define the constraints\n",
        "    constraint_1 = Eq(x, 0.0002 * coin_value)\n",
        "    constraint_2 = Eq(y, 0.0001 * coin_value)\n",
        "    constraint_3 = Eq(z, 0.0003 * coin_value)\n",
        "\n",
        "    # Solve for the variables\n",
        "    solutions = sym.solve([objective_function, constraint_1, constraint_2, constraint_3], (horse, x, y, z))\n",
        "\n",
        "    # Extract the values of variables if a solution exists\n",
        "    if solutions:\n",
        "        horse_value = solutions[horse]\n",
        "        generator_capacity_value = solutions[x]\n",
        "        load_value = solutions[y]\n",
        "        battery_capacity_value = solutions[z]\n",
        "\n",
        "        # Print the results\n",
        "        print(f\"Input:\")\n",
        "        print(f\"Investment (coin): ${coin_value:.2f}\")\n",
        "        print(f\"Output:\")\n",
        "        print(f\"Generator (buffalo): {generator_capacity_value:.2f} KW\")\n",
        "        print(f\"Load (mother): {load_value:.2f} KW\")\n",
        "        print(f\"Battery Capacity (crow): {battery_capacity_value:.2f} KW\")\n",
        "        surplus_electricity = generator_capacity_value.evalf() - load_value.evalf()\n",
        "        print(f\"Surplus Electricity (milk): {max(surplus_electricity, 0):.2f} KW\")\n",
        "        net_savings = surplus_electricity - battery_capacity_value.evalf()\n",
        "        print(f\"Net Savings (bread): {max(net_savings, 0):.2f} KW\")\n",
        "        print(f\"Market Value of Net Savings (horse): ${max(net_savings, 0) * 100:.2f}\")\n",
        "    else:\n",
        "        print(\"No feasible solution found for the given investment.\")\n",
        "\n",
        "# Ask the user to insert the coin\n",
        "coin_value = float(input(\"Please insert the coin (in USD): \"))\n",
        "\n",
        "# Validate the input\n",
        "if coin_value <= 0:\n",
        "    print(\"Invalid input. The coin value must be greater than zero.\")\n",
        "else:\n",
        "    # Calculate the microgrid and print the results\n",
        "    calculate_microgrid(coin_value)"
      ]
    }
  ]
}