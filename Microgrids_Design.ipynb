{
  "cells": [
    {
      "cell_type": "markdown",
      "metadata": {
        "id": "view-in-github",
        "colab_type": "text"
      },
      "source": [
        "<a href=\"https://colab.research.google.com/github/narejoneduet/A-University-Microgrid-Model/blob/main/Microgrids_Design.ipynb\" target=\"_parent\"><img src=\"https://colab.research.google.com/assets/colab-badge.svg\" alt=\"Open In Colab\"/></a>"
      ]
    },
    {
      "cell_type": "markdown",
      "source": [
        "Sure, I can help you with that. Here is an example of how to use the microgrids library to compute the cost of energy, the emissions, and the reliability of a microgrid:"
      ],
      "metadata": {
        "id": "iX7f1QGr1dZH"
      }
    },
    {
      "cell_type": "code",
      "source": [
        "!pip install microgrids\n",
        "import microgrids\n",
        "\n",
        "# Create a microgrid with a solar PV plant and a battery\n",
        "microgrid = microgrids.Microgrid([microgrids.SolarPV(100), microgrids.Battery(100)])\n",
        "\n",
        "# Simulate the operation of the microgrid for 24 hours\n",
        "microgrid.simulate(24)\n",
        "\n",
        "# Calculate the cost of energy, the emissions, and the reliability\n",
        "cost_of_energy = microgrid.get_cost_of_energy()\n",
        "emissions = microgrid.get_emissions()\n",
        "reliability = microgrid.get_reliability()\n",
        "\n",
        "# Print the results\n",
        "print(\"Cost of energy: \", cost_of_energy)\n",
        "print(\"Emissions: \", emissions)\n",
        "print(\"Reliability: \", reliability)"
      ],
      "outputs": [
        {
          "output_type": "stream",
          "name": "stdout",
          "text": [
            "Looking in indexes: https://pypi.org/simple, https://us-python.pkg.dev/colab-wheels/public/simple/\n",
            "Collecting microgrids\n",
            "  Downloading microgrids-0.1.0-py3-none-any.whl (14 kB)\n",
            "Requirement already satisfied: matplotlib in /usr/local/lib/python3.10/dist-packages (from microgrids) (3.7.1)\n",
            "Requirement already satisfied: numpy in /usr/local/lib/python3.10/dist-packages (from microgrids) (1.22.4)\n",
            "Requirement already satisfied: contourpy>=1.0.1 in /usr/local/lib/python3.10/dist-packages (from matplotlib->microgrids) (1.1.0)\n",
            "Requirement already satisfied: cycler>=0.10 in /usr/local/lib/python3.10/dist-packages (from matplotlib->microgrids) (0.11.0)\n",
            "Requirement already satisfied: fonttools>=4.22.0 in /usr/local/lib/python3.10/dist-packages (from matplotlib->microgrids) (4.40.0)\n",
            "Requirement already satisfied: kiwisolver>=1.0.1 in /usr/local/lib/python3.10/dist-packages (from matplotlib->microgrids) (1.4.4)\n",
            "Requirement already satisfied: packaging>=20.0 in /usr/local/lib/python3.10/dist-packages (from matplotlib->microgrids) (23.1)\n",
            "Requirement already satisfied: pillow>=6.2.0 in /usr/local/lib/python3.10/dist-packages (from matplotlib->microgrids) (8.4.0)\n",
            "Requirement already satisfied: pyparsing>=2.3.1 in /usr/local/lib/python3.10/dist-packages (from matplotlib->microgrids) (3.1.0)\n",
            "Requirement already satisfied: python-dateutil>=2.7 in /usr/local/lib/python3.10/dist-packages (from matplotlib->microgrids) (2.8.2)\n",
            "Requirement already satisfied: six>=1.5 in /usr/local/lib/python3.10/dist-packages (from python-dateutil>=2.7->matplotlib->microgrids) (1.16.0)\n",
            "Installing collected packages: microgrids\n",
            "Successfully installed microgrids-0.1.0\n"
          ]
        },
        {
          "output_type": "error",
          "ename": "AttributeError",
          "evalue": "ignored",
          "traceback": [
            "\u001b[0;31m---------------------------------------------------------------------------\u001b[0m",
            "\u001b[0;31mAttributeError\u001b[0m                            Traceback (most recent call last)",
            "\u001b[0;32m<ipython-input-1-8d00113d1675>\u001b[0m in \u001b[0;36m<cell line: 5>\u001b[0;34m()\u001b[0m\n\u001b[1;32m      3\u001b[0m \u001b[0;34m\u001b[0m\u001b[0m\n\u001b[1;32m      4\u001b[0m \u001b[0;31m# Create a microgrid with a solar PV plant and a battery\u001b[0m\u001b[0;34m\u001b[0m\u001b[0;34m\u001b[0m\u001b[0m\n\u001b[0;32m----> 5\u001b[0;31m \u001b[0mmicrogrid\u001b[0m \u001b[0;34m=\u001b[0m \u001b[0mmicrogrids\u001b[0m\u001b[0;34m.\u001b[0m\u001b[0mMicrogrid\u001b[0m\u001b[0;34m(\u001b[0m\u001b[0;34m[\u001b[0m\u001b[0mmicrogrids\u001b[0m\u001b[0;34m.\u001b[0m\u001b[0mSolarPV\u001b[0m\u001b[0;34m(\u001b[0m\u001b[0;36m100\u001b[0m\u001b[0;34m)\u001b[0m\u001b[0;34m,\u001b[0m \u001b[0mmicrogrids\u001b[0m\u001b[0;34m.\u001b[0m\u001b[0mBattery\u001b[0m\u001b[0;34m(\u001b[0m\u001b[0;36m100\u001b[0m\u001b[0;34m)\u001b[0m\u001b[0;34m]\u001b[0m\u001b[0;34m)\u001b[0m\u001b[0;34m\u001b[0m\u001b[0;34m\u001b[0m\u001b[0m\n\u001b[0m\u001b[1;32m      6\u001b[0m \u001b[0;34m\u001b[0m\u001b[0m\n\u001b[1;32m      7\u001b[0m \u001b[0;31m# Simulate the operation of the microgrid for 24 hours\u001b[0m\u001b[0;34m\u001b[0m\u001b[0;34m\u001b[0m\u001b[0m\n",
            "\u001b[0;31mAttributeError\u001b[0m: module 'microgrids' has no attribute 'SolarPV'"
          ]
        }
      ],
      "execution_count": 1,
      "metadata": {
        "colab": {
          "base_uri": "https://localhost:8080/",
          "height": 546
        },
        "id": "22ILJ4LU1dZK",
        "outputId": "97bf3870-8dd8-4a10-9730-a7797af757a9"
      }
    },
    {
      "cell_type": "code",
      "source": [
        "import microgrids\n",
        "\n",
        "# Create a microgrid with a solar panel and a battery\n",
        "microgrid = microgrids.Microgrid([microgrids.SolarPanel(100), microgrids.Battery(100)])\n",
        "\n",
        "# Simulate the operation of the microgrid for 24 hours\n",
        "microgrid.simulate(24)\n",
        "\n",
        "# Calculate the cost of energy, the emissions, and the reliability\n",
        "cost_of_energy = microgrid.get_cost_of_energy()\n",
        "emissions = microgrid.get_emissions()\n",
        "reliability = microgrid.get_reliability()\n",
        "\n",
        "# Print the results\n",
        "print(\"Cost of energy: \", cost_of_energy)\n",
        "print(\"Emissions: \", emissions)\n",
        "print(\"Reliability: \", reliability)\n"
      ],
      "metadata": {
        "colab": {
          "base_uri": "https://localhost:8080/",
          "height": 240
        },
        "id": "bEKkIzbq36nj",
        "outputId": "b7066c3a-e021-4c48-e666-65e831fd3ec6"
      },
      "execution_count": 2,
      "outputs": [
        {
          "output_type": "error",
          "ename": "AttributeError",
          "evalue": "ignored",
          "traceback": [
            "\u001b[0;31m---------------------------------------------------------------------------\u001b[0m",
            "\u001b[0;31mAttributeError\u001b[0m                            Traceback (most recent call last)",
            "\u001b[0;32m<ipython-input-2-46ed82a480e6>\u001b[0m in \u001b[0;36m<cell line: 4>\u001b[0;34m()\u001b[0m\n\u001b[1;32m      2\u001b[0m \u001b[0;34m\u001b[0m\u001b[0m\n\u001b[1;32m      3\u001b[0m \u001b[0;31m# Create a microgrid with a solar panel and a battery\u001b[0m\u001b[0;34m\u001b[0m\u001b[0;34m\u001b[0m\u001b[0m\n\u001b[0;32m----> 4\u001b[0;31m \u001b[0mmicrogrid\u001b[0m \u001b[0;34m=\u001b[0m \u001b[0mmicrogrids\u001b[0m\u001b[0;34m.\u001b[0m\u001b[0mMicrogrid\u001b[0m\u001b[0;34m(\u001b[0m\u001b[0;34m[\u001b[0m\u001b[0mmicrogrids\u001b[0m\u001b[0;34m.\u001b[0m\u001b[0mSolarPanel\u001b[0m\u001b[0;34m(\u001b[0m\u001b[0;36m100\u001b[0m\u001b[0;34m)\u001b[0m\u001b[0;34m,\u001b[0m \u001b[0mmicrogrids\u001b[0m\u001b[0;34m.\u001b[0m\u001b[0mBattery\u001b[0m\u001b[0;34m(\u001b[0m\u001b[0;36m100\u001b[0m\u001b[0;34m)\u001b[0m\u001b[0;34m]\u001b[0m\u001b[0;34m)\u001b[0m\u001b[0;34m\u001b[0m\u001b[0;34m\u001b[0m\u001b[0m\n\u001b[0m\u001b[1;32m      5\u001b[0m \u001b[0;34m\u001b[0m\u001b[0m\n\u001b[1;32m      6\u001b[0m \u001b[0;31m# Simulate the operation of the microgrid for 24 hours\u001b[0m\u001b[0;34m\u001b[0m\u001b[0;34m\u001b[0m\u001b[0m\n",
            "\u001b[0;31mAttributeError\u001b[0m: module 'microgrids' has no attribute 'SolarPanel'"
          ]
        }
      ]
    },
    {
      "cell_type": "code",
      "source": [
        "import microgrids\n",
        "\n",
        "# Create a microgrid with a solar generator and a battery\n",
        "microgrid = microgrids.Microgrid([microgrids.SolarGenerator(100), microgrids.Battery(100)])\n",
        "\n",
        "# Simulate the operation of the microgrid for 24 hours\n",
        "microgrid.simulate(24)\n",
        "\n",
        "# Calculate the cost of energy, the emissions, and the reliability\n",
        "cost_of_energy = microgrid.get_cost_of_energy()\n",
        "emissions = microgrid.get_emissions()\n",
        "reliability = microgrid.get_reliability()\n",
        "\n",
        "# Print the results\n",
        "print(\"Cost of energy: \", cost_of_energy)\n",
        "print(\"Emissions: \", emissions)\n",
        "print(\"Reliability: \", reliability)\n"
      ],
      "metadata": {
        "colab": {
          "base_uri": "https://localhost:8080/",
          "height": 240
        },
        "id": "G3dfFeRO4ezh",
        "outputId": "bfeb5470-4505-4009-8eb4-bc03a5c0e213"
      },
      "execution_count": 3,
      "outputs": [
        {
          "output_type": "error",
          "ename": "AttributeError",
          "evalue": "ignored",
          "traceback": [
            "\u001b[0;31m---------------------------------------------------------------------------\u001b[0m",
            "\u001b[0;31mAttributeError\u001b[0m                            Traceback (most recent call last)",
            "\u001b[0;32m<ipython-input-3-4089cc451eb8>\u001b[0m in \u001b[0;36m<cell line: 4>\u001b[0;34m()\u001b[0m\n\u001b[1;32m      2\u001b[0m \u001b[0;34m\u001b[0m\u001b[0m\n\u001b[1;32m      3\u001b[0m \u001b[0;31m# Create a microgrid with a solar generator and a battery\u001b[0m\u001b[0;34m\u001b[0m\u001b[0;34m\u001b[0m\u001b[0m\n\u001b[0;32m----> 4\u001b[0;31m \u001b[0mmicrogrid\u001b[0m \u001b[0;34m=\u001b[0m \u001b[0mmicrogrids\u001b[0m\u001b[0;34m.\u001b[0m\u001b[0mMicrogrid\u001b[0m\u001b[0;34m(\u001b[0m\u001b[0;34m[\u001b[0m\u001b[0mmicrogrids\u001b[0m\u001b[0;34m.\u001b[0m\u001b[0mSolarGenerator\u001b[0m\u001b[0;34m(\u001b[0m\u001b[0;36m100\u001b[0m\u001b[0;34m)\u001b[0m\u001b[0;34m,\u001b[0m \u001b[0mmicrogrids\u001b[0m\u001b[0;34m.\u001b[0m\u001b[0mBattery\u001b[0m\u001b[0;34m(\u001b[0m\u001b[0;36m100\u001b[0m\u001b[0;34m)\u001b[0m\u001b[0;34m]\u001b[0m\u001b[0;34m)\u001b[0m\u001b[0;34m\u001b[0m\u001b[0;34m\u001b[0m\u001b[0m\n\u001b[0m\u001b[1;32m      5\u001b[0m \u001b[0;34m\u001b[0m\u001b[0m\n\u001b[1;32m      6\u001b[0m \u001b[0;31m# Simulate the operation of the microgrid for 24 hours\u001b[0m\u001b[0;34m\u001b[0m\u001b[0;34m\u001b[0m\u001b[0m\n",
            "\u001b[0;31mAttributeError\u001b[0m: module 'microgrids' has no attribute 'SolarGenerator'"
          ]
        }
      ]
    },
    {
      "cell_type": "code",
      "source": [
        "!pip install pulp\n",
        "from pulp import LpProblem, LpVariable, lpSum, LpMinimize\n",
        "\n",
        "# Define the microgrid variables\n",
        "solar_capacity = 100  # kW\n",
        "battery_capacity = 200  # kWh\n",
        "grid_price = 0.15  # $/kWh\n",
        "solar_price = 0.1  # $/kWh\n",
        "battery_price = 0.2  # $/kWh\n",
        "load_demand = [50, 60, 70, 80, 90, 100]  # kW\n",
        "\n",
        "# Create the optimization problem\n",
        "problem = LpProblem(\"Microgrid Optimization\", LpMinimize)\n",
        "\n",
        "# Define the decision variables\n",
        "grid_import = LpVariable(\"GridImport\", lowBound=0)\n",
        "grid_export = LpVariable(\"GridExport\", lowBound=0)\n",
        "solar_generation = LpVariable(\"SolarGeneration\", lowBound=0)\n",
        "battery_charge = LpVariable(\"BatteryCharge\", lowBound=0)\n",
        "battery_discharge = LpVariable(\"BatteryDischarge\", lowBound=0)\n",
        "\n",
        "# Define the objective function\n",
        "problem += grid_price * (grid_import - grid_export) + solar_price * solar_generation \\\n",
        "    + battery_price * (battery_charge + battery_discharge)\n",
        "\n",
        "# Define the constraints\n",
        "for i, demand in enumerate(load_demand):\n",
        "    problem += load_demand[i] == grid_import + solar_generation - grid_export \\\n",
        "        + battery_discharge - battery_charge\n",
        "\n",
        "problem += solar_generation <= solar_capacity\n",
        "problem += battery_charge <= battery_capacity\n",
        "problem += battery_discharge <= battery_capacity\n",
        "\n",
        "# Solve the optimization problem\n",
        "problem.solve()\n",
        "\n",
        "# Print the optimal solution\n",
        "print(\"Objective Value:\", problem.objective.value())\n",
        "print(\"Grid Import:\", grid_import.varValue)\n",
        "print(\"Grid Export:\", grid_export.varValue)\n",
        "print(\"Solar Generation:\", solar_generation.varValue)\n",
        "print(\"Battery Charge:\", battery_charge.varValue)\n",
        "print(\"Battery Discharge:\", battery_discharge.varValue)\n"
      ],
      "metadata": {
        "colab": {
          "base_uri": "https://localhost:8080/"
        },
        "id": "q90WaJbm5FYu",
        "outputId": "96c2eb24-8abc-474c-cf6f-03901680ee66"
      },
      "execution_count": 4,
      "outputs": [
        {
          "output_type": "stream",
          "name": "stdout",
          "text": [
            "Looking in indexes: https://pypi.org/simple, https://us-python.pkg.dev/colab-wheels/public/simple/\n",
            "Collecting pulp\n",
            "  Downloading PuLP-2.7.0-py3-none-any.whl (14.3 MB)\n",
            "\u001b[2K     \u001b[90m━━━━━━━━━━━━━━━━━━━━━━━━━━━━━━━━━━━━━━━━\u001b[0m \u001b[32m14.3/14.3 MB\u001b[0m \u001b[31m90.7 MB/s\u001b[0m eta \u001b[36m0:00:00\u001b[0m\n",
            "\u001b[?25hInstalling collected packages: pulp\n",
            "Successfully installed pulp-2.7.0\n",
            "Objective Value: 5.5\n",
            "Grid Import: 0.0\n",
            "Grid Export: 30.0\n",
            "Solar Generation: 100.0\n",
            "Battery Charge: 0.0\n",
            "Battery Discharge: 0.0\n"
          ]
        },
        {
          "output_type": "stream",
          "name": "stderr",
          "text": [
            "/usr/local/lib/python3.10/dist-packages/pulp/pulp.py:1352: UserWarning: Spaces are not permitted in the name. Converted to '_'\n",
            "  warnings.warn(\"Spaces are not permitted in the name. Converted to '_'\")\n"
          ]
        }
      ]
    },
    {
      "cell_type": "code",
      "source": [
        "from pulp import LpProblem, LpVariable, lpSum, LpMinimize\n",
        "\n",
        "# Define the microgrid variables\n",
        "solar_capacity = 100  # kW\n",
        "battery_capacity = 200  # kWh\n",
        "grid_price = 0.15  # $/kWh\n",
        "solar_price = 0.1  # $/kWh\n",
        "battery_price = 0.2  # $/kWh\n",
        "load_demand = [50, 60, 70, 80, 90, 100]  # kW\n",
        "\n",
        "# Create the optimization problem\n",
        "problem = LpProblem(\"Microgrid Optimization\", LpMinimize)\n",
        "\n",
        "# Define the decision variables\n",
        "grid_import = LpVariable(\"GridImport\", lowBound=0)\n",
        "grid_export = LpVariable(\"GridExport\", lowBound=0)\n",
        "solar_generation = LpVariable(\"SolarGeneration\", lowBound=0)\n",
        "battery_charge = LpVariable(\"BatteryCharge\", lowBound=0)\n",
        "battery_discharge = LpVariable(\"BatteryDischarge\", lowBound=0)\n",
        "\n",
        "# Define the objective function\n",
        "problem += grid_price * (grid_import - grid_export) + solar_price * solar_generation \\\n",
        "    + battery_price * (battery_charge + battery_discharge)\n",
        "\n",
        "# Define the constraints\n",
        "for i, demand in enumerate(load_demand):\n",
        "    problem += load_demand[i] == grid_import + solar_generation - grid_export \\\n",
        "        + battery_discharge - battery_charge\n",
        "\n",
        "problem += solar_generation <= solar_capacity\n",
        "problem += battery_charge <= battery_capacity\n",
        "problem += battery_discharge <= battery_capacity\n",
        "\n",
        "# Solve the optimization problem\n",
        "problem.solve()\n",
        "\n",
        "# Print the optimal solution\n",
        "print(\"Objective Value:\", problem.objective.value())\n",
        "print(\"Grid Import:\", grid_import.varValue)\n",
        "print(\"Grid Export:\", grid_export.varValue)\n",
        "print(\"Solar Generation:\", solar_generation.varValue)\n",
        "print(\"Battery Charge:\", battery_charge.varValue)\n",
        "print(\"Battery Discharge:\", battery_discharge.varValue)\n"
      ],
      "metadata": {
        "colab": {
          "base_uri": "https://localhost:8080/"
        },
        "id": "jhny5uDh7dGh",
        "outputId": "1e688e6c-13ff-4119-cd2a-5796dc7154a7"
      },
      "execution_count": 5,
      "outputs": [
        {
          "output_type": "stream",
          "name": "stdout",
          "text": [
            "Objective Value: 5.5\n",
            "Grid Import: 0.0\n",
            "Grid Export: 30.0\n",
            "Solar Generation: 100.0\n",
            "Battery Charge: 0.0\n",
            "Battery Discharge: 0.0\n"
          ]
        }
      ]
    },
    {
      "cell_type": "code",
      "source": [
        "from pulp import LpProblem, LpVariable, lpSum, LpMinimize\n",
        "\n",
        "# Define the microgrid variables\n",
        "solar_capacity = 100  # kW\n",
        "battery_capacity = 200  # kWh\n",
        "grid_price = 0.15  # $/kWh\n",
        "solar_price = 0.1  # $/kWh\n",
        "battery_price = 0.2  # $/kWh\n",
        "load_demand = [50, 60, 70, 80, 90, 100]  # kW\n",
        "\n",
        "# Create the optimization problem\n",
        "problem = LpProblem(\"Microgrid Optimization\", LpMinimize)\n",
        "\n",
        "# Define the decision variables\n",
        "grid_import = LpVariable(\"GridImport\", lowBound=0)\n",
        "grid_export = LpVariable(\"GridExport\", lowBound=0)\n",
        "solar_generation = LpVariable(\"SolarGeneration\", lowBound=0)\n",
        "battery_charge = LpVariable(\"BatteryCharge\", lowBound=0)\n",
        "battery_discharge = LpVariable(\"BatteryDischarge\", lowBound=0)\n",
        "\n",
        "# Define the objective function\n",
        "problem += grid_price * (grid_import - grid_export) + solar_price * solar_generation \\\n",
        "    + battery_price * (battery_charge + battery_discharge)\n",
        "\n",
        "# Define the constraints\n",
        "for i, demand in enumerate(load_demand):\n",
        "    problem += load_demand[i] == grid_import + solar_generation - grid_export \\\n",
        "        + battery_discharge - battery_charge\n",
        "\n",
        "problem += solar_generation <= solar_capacity\n",
        "problem += battery_charge <= battery_capacity\n",
        "problem += battery_discharge <= battery_capacity\n",
        "\n",
        "# Solve the optimization problem\n",
        "problem.solve()\n",
        "\n",
        "# Print the optimal solution\n",
        "print(\"Objective Value:\", problem.objective.value())\n",
        "print(\"Grid Import:\", grid_import.varValue)\n",
        "print(\"Grid Export:\", grid_export.varValue)\n",
        "print(\"Solar Generation:\", solar_generation.varValue)\n",
        "print(\"Battery Charge:\", battery_charge.varValue)\n",
        "print(\"Battery Discharge:\", battery_discharge.varValue)\n"
      ],
      "metadata": {
        "colab": {
          "base_uri": "https://localhost:8080/"
        },
        "id": "Uf8RSWox8MYH",
        "outputId": "cc1a39d4-67cf-4733-e79c-d17ded8d14d5"
      },
      "execution_count": 6,
      "outputs": [
        {
          "output_type": "stream",
          "name": "stdout",
          "text": [
            "Objective Value: 5.5\n",
            "Grid Import: 0.0\n",
            "Grid Export: 30.0\n",
            "Solar Generation: 100.0\n",
            "Battery Charge: 0.0\n",
            "Battery Discharge: 0.0\n"
          ]
        }
      ]
    },
    {
      "cell_type": "code",
      "source": [
        "from pulp import LpProblem, LpVariable, lpSum, LpMinimize\n",
        "\n",
        "# Define the microgrid variables\n",
        "solar_capacity_day = 100  # kW during the day\n",
        "solar_capacity_night = 0  # kW during the night\n",
        "battery_capacity = 200  # kWh\n",
        "grid_price = 0.15  # $/kWh\n",
        "solar_price = 0.1  # $/kWh\n",
        "battery_price = 0.2  # $/kWh\n",
        "load_demand = [50, 60, 70, 80, 90, 100]  # kW\n",
        "\n",
        "# Create the optimization problem\n",
        "problem = LpProblem(\"Microgrid Optimization\", LpMinimize)\n",
        "\n",
        "# Define the decision variables\n",
        "grid_import = LpVariable(\"GridImport\", lowBound=0)\n",
        "grid_export = LpVariable(\"GridExport\", lowBound=0)\n",
        "solar_generation_day = LpVariable(\"SolarGenerationDay\", lowBound=0)\n",
        "solar_generation_night = LpVariable(\"SolarGenerationNight\", lowBound=0)\n",
        "battery_charge = LpVariable(\"BatteryCharge\", lowBound=0)\n",
        "battery_discharge = LpVariable(\"BatteryDischarge\", lowBound=0)\n",
        "\n",
        "# Define the objective function\n",
        "problem += grid_price * (grid_import - grid_export) + solar_price * (solar_generation_day + solar_generation_night) \\\n",
        "    + battery_price * (battery_charge + battery_discharge)\n",
        "\n",
        "# Define the constraints\n",
        "for i, demand in enumerate(load_demand):\n",
        "    problem += load_demand[i] == grid_import + solar_generation_day + solar_generation_night - grid_export \\\n",
        "        + battery_discharge - battery_charge\n",
        "\n",
        "problem += solar_generation_day <= solar_capacity_day\n",
        "problem += solar_generation_night <= solar_capacity_night\n",
        "problem += battery_charge <= battery_capacity\n",
        "problem += battery_discharge >= 100  # Minimum discharge of 100 kWh\n",
        "problem += battery_discharge <= battery_capacity\n",
        "\n",
        "# Solve the optimization problem\n",
        "problem.solve()\n",
        "\n",
        "# Print the optimal solution\n",
        "print(\"Objective Value:\", problem.objective.value())\n",
        "print(\"Grid Import:\", grid_import.varValue)\n",
        "print(\"Grid Export:\", grid_export.varValue)\n",
        "print(\"Solar Generation (Day):\", solar_generation_day.varValue)\n",
        "print(\"Solar Generation (Night):\", solar_generation_night.varValue)\n",
        "print(\"Battery Charge:\", battery_charge.varValue)\n",
        "print(\"Battery Discharge:\", battery_discharge.varValue)\n"
      ],
      "metadata": {
        "colab": {
          "base_uri": "https://localhost:8080/"
        },
        "id": "8_-A0Z7h9Tdu",
        "outputId": "5a68d203-0801-4a92-ee2f-dc30b692de62"
      },
      "execution_count": 7,
      "outputs": [
        {
          "output_type": "stream",
          "name": "stdout",
          "text": [
            "Objective Value: 12.0\n",
            "Grid Import: 0.0\n",
            "Grid Export: 120.0\n",
            "Solar Generation (Day): 100.0\n",
            "Solar Generation (Night): 0.0\n",
            "Battery Charge: 0.0\n",
            "Battery Discharge: 100.0\n"
          ]
        }
      ]
    },
    {
      "cell_type": "code",
      "source": [
        "from pulp import LpProblem, LpVariable, lpSum, LpMinimize\n",
        "\n",
        "# Define the microgrid variables\n",
        "solar_capacity_day = 100  # kW during the day\n",
        "solar_capacity_night = 0  # kW during the night\n",
        "battery_capacity = 200  # kWh\n",
        "grid_price = 0.15  # $/kWh\n",
        "solar_price = 0.1  # $/kWh\n",
        "battery_price = 0.2  # $/kWh\n",
        "load_demand = [50, 75, 150, 155, 75, 50]  # kW for each period: morning, prior noon, afternoon, evening, night, morning\n",
        "\n",
        "# Create the optimization problem\n",
        "problem = LpProblem(\"Microgrid Optimization\", LpMinimize)\n",
        "\n",
        "# Define the decision variables\n",
        "grid_import = LpVariable(\"GridImport\", lowBound=0)\n",
        "grid_export = LpVariable(\"GridExport\", lowBound=0)\n",
        "solar_generation_day = LpVariable(\"SolarGenerationDay\", lowBound=0)\n",
        "solar_generation_night = LpVariable(\"SolarGenerationNight\", lowBound=0)\n",
        "battery_charge = LpVariable(\"BatteryCharge\", lowBound=0, upBound=100)  # Set upper bound to 100 kWh\n",
        "battery_discharge = LpVariable(\"BatteryDischarge\", lowBound=0, upBound=100)  # Set upper bound to 100 kWh\n",
        "\n",
        "# Define the objective function\n",
        "problem += grid_price * (grid_import - grid_export) + solar_price * (solar_generation_day + solar_generation_night) \\\n",
        "    + battery_price * (battery_charge + battery_discharge)\n",
        "\n",
        "# Define the constraints\n",
        "for i, demand in enumerate(load_demand):\n",
        "    problem += load_demand[i] == grid_import + solar_generation_day + solar_generation_night - grid_export \\\n",
        "        + battery_discharge - battery_charge\n",
        "\n",
        "problem += solar_generation_day <= solar_capacity_day\n",
        "problem += solar_generation_night <= solar_capacity_night\n",
        "problem += battery_charge <= battery_capacity\n",
        "problem += battery_discharge >= 100  # Minimum discharge of 100 kWh\n",
        "problem += battery_discharge <= battery_capacity\n",
        "\n",
        "# Solve the optimization problem\n",
        "problem.solve()\n",
        "\n",
        "# Print the optimal solution\n",
        "print(\"Objective Value:\", problem.objective.value())\n",
        "print(\"Grid Import:\", grid_import.varValue)\n",
        "print(\"Grid Export:\", grid_export.varValue)\n",
        "print(\"Solar Generation (Day):\", solar_generation_day.varValue)\n",
        "print(\"Solar Generation (Night):\", solar_generation_night.varValue)\n",
        "print(\"Battery Charge:\", battery_charge.varValue)\n",
        "print(\"Battery Discharge:\", battery_discharge.varValue)\n"
      ],
      "metadata": {
        "colab": {
          "base_uri": "https://localhost:8080/"
        },
        "id": "P1gS5_V--sBK",
        "outputId": "73041e4d-81d2-4555-aa29-df69176ea21c"
      },
      "execution_count": 8,
      "outputs": [
        {
          "output_type": "stream",
          "name": "stdout",
          "text": [
            "Objective Value: 11.25\n",
            "Grid Import: 0.0\n",
            "Grid Export: 125.0\n",
            "Solar Generation (Day): 100.0\n",
            "Solar Generation (Night): 0.0\n",
            "Battery Charge: 0.0\n",
            "Battery Discharge: 100.0\n"
          ]
        }
      ]
    },
    {
      "cell_type": "code",
      "source": [
        "from pulp import LpProblem, LpVariable, lpSum, LpMinimize\n",
        "\n",
        "# Define the microgrid variables\n",
        "solar_capacity_day = 100  # kW during the day\n",
        "solar_capacity_night = 0  # kW during the night\n",
        "battery_capacity = 200  # kWh\n",
        "grid_price = 0.15  # $/kWh\n",
        "solar_price = 0.1  # $/kWh\n",
        "battery_price = 0.2  # $/kWh\n",
        "\n",
        "# Define the load demand scenarios\n",
        "load_demand_scenarios = [\n",
        "    [50, 75, 150, 155, 75, 50],  # Scenario 1\n",
        "    [60, 80, 140, 150, 70, 55],  # Scenario 2\n",
        "    [70, 85, 160, 160, 80, 60]   # Scenario 3\n",
        "]\n",
        "\n",
        "# Iterate over the load demand scenarios\n",
        "for scenario_idx, load_demand in enumerate(load_demand_scenarios):\n",
        "    # Create the optimization problem\n",
        "    problem = LpProblem(\"Microgrid Optimization\", LpMinimize)\n",
        "\n",
        "    # Define the decision variables\n",
        "    grid_import = LpVariable(\"GridImport\", lowBound=0)\n",
        "    grid_export = LpVariable(\"GridExport\", lowBound=0)\n",
        "    solar_generation_day = LpVariable(\"SolarGenerationDay\", lowBound=0)\n",
        "    solar_generation_night = LpVariable(\"SolarGenerationNight\", lowBound=0)\n",
        "    battery_charge = LpVariable(\"BatteryCharge\", lowBound=0, upBound=100)  # Set upper bound to 100 kWh\n",
        "    battery_discharge = LpVariable(\"BatteryDischarge\", lowBound=0, upBound=100)  # Set upper bound to 100 kWh\n",
        "\n",
        "    # Define the objective function\n",
        "    problem += grid_price * (grid_import - grid_export) + solar_price * (solar_generation_day + solar_generation_night) \\\n",
        "        + battery_price * (battery_charge + battery_discharge)\n",
        "\n",
        "    # Define the constraints\n",
        "    for i, demand in enumerate(load_demand):\n",
        "        problem += load_demand[i] == grid_import + solar_generation_day + solar_generation_night - grid_export \\\n",
        "            + battery_discharge - battery_charge\n",
        "\n",
        "    problem += solar_generation_day <= solar_capacity_day\n",
        "    problem += solar_generation_night <= solar_capacity_night\n",
        "    problem += battery_charge <= battery_capacity\n",
        "    problem += battery_discharge >= 100  # Minimum discharge of 100 kWh\n",
        "    problem += battery_discharge <= battery_capacity\n",
        "\n",
        "    # Solve the optimization problem\n",
        "    problem.solve()\n",
        "\n",
        "    # Print the optimal solution for the current scenario\n",
        "    print(f\"Scenario {scenario_idx+1}:\")\n",
        "    print(\"Objective Value:\", problem.objective.value())\n",
        "    print(\"Grid Import:\", grid_import.varValue)\n",
        "    print(\"Grid Export:\", grid_export.varValue)\n",
        "    print(\"Solar Generation (Day):\", solar_generation_day.varValue)\n",
        "    print(\"Solar Generation (Night):\", solar_generation_night.varValue)\n",
        "    print(\"Battery Charge:\", battery_charge.varValue)\n",
        "    print(\"Battery Discharge:\", battery_discharge.varValue)\n",
        "    print(\"-------------------------\")\n"
      ],
      "metadata": {
        "colab": {
          "base_uri": "https://localhost:8080/"
        },
        "id": "cmgFG52M_t7W",
        "outputId": "1e6974a7-2e51-4201-eef9-7fce5f448b7a"
      },
      "execution_count": 9,
      "outputs": [
        {
          "output_type": "stream",
          "name": "stdout",
          "text": [
            "Scenario 1:\n",
            "Objective Value: 11.25\n",
            "Grid Import: 0.0\n",
            "Grid Export: 125.0\n",
            "Solar Generation (Day): 100.0\n",
            "Solar Generation (Night): 0.0\n",
            "Battery Charge: 0.0\n",
            "Battery Discharge: 100.0\n",
            "-------------------------\n",
            "Scenario 2:\n",
            "Objective Value: 12.0\n",
            "Grid Import: 0.0\n",
            "Grid Export: 120.0\n",
            "Solar Generation (Day): 100.0\n",
            "Solar Generation (Night): 0.0\n",
            "Battery Charge: 0.0\n",
            "Battery Discharge: 100.0\n",
            "-------------------------\n",
            "Scenario 3:\n",
            "Objective Value: 12.75\n",
            "Grid Import: 0.0\n",
            "Grid Export: 115.0\n",
            "Solar Generation (Day): 100.0\n",
            "Solar Generation (Night): 0.0\n",
            "Battery Charge: 0.0\n",
            "Battery Discharge: 100.0\n",
            "-------------------------\n"
          ]
        }
      ]
    },
    {
      "cell_type": "code",
      "source": [
        "import matplotlib.pyplot as plt\n",
        "import numpy as np\n",
        "from pulp import LpProblem, LpVariable, lpSum, LpMinimize\n",
        "\n",
        "# Define the microgrid variables\n",
        "solar_capacity_day = 100  # kW during the day\n",
        "solar_capacity_night = 0  # kW during the night\n",
        "battery_capacity = 200  # kWh\n",
        "grid_price = 0.15  # $/kWh\n",
        "solar_price = 0.1  # $/kWh\n",
        "battery_price = 0.2  # $/kWh\n",
        "\n",
        "# Define the load demand scenarios\n",
        "load_demand_scenarios = [\n",
        "    [50, 75, 150, 155, 75, 50],  # Scenario 1\n",
        "    [60, 80, 140, 150, 70, 55],  # Scenario 2\n",
        "    [70, 85, 160, 160, 80, 60]   # Scenario 3\n",
        "]\n",
        "\n",
        "# Initialize lists to store objective values\n",
        "objective_values = []\n",
        "\n",
        "# Iterate over the load demand scenarios\n",
        "for load_demand in load_demand_scenarios:\n",
        "    # Create the optimization problem\n",
        "    problem = LpProblem(\"Microgrid Optimization\", LpMinimize)\n",
        "\n",
        "    # Define the decision variables\n",
        "    grid_import = LpVariable(\"GridImport\", lowBound=0)\n",
        "    grid_export = LpVariable(\"GridExport\", lowBound=0)\n",
        "    solar_generation_day = LpVariable(\"SolarGenerationDay\", lowBound=0)\n",
        "    solar_generation_night = LpVariable(\"SolarGenerationNight\", lowBound=0)\n",
        "    battery_charge = LpVariable(\"BatteryCharge\", lowBound=0, upBound=100)  # Set upper bound to 100 kWh\n",
        "    battery_discharge = LpVariable(\"BatteryDischarge\", lowBound=0, upBound=100)  # Set upper bound to 100 kWh\n",
        "\n",
        "    # Define the objective function\n",
        "    problem += grid_price * (grid_import - grid_export) + solar_price * (solar_generation_day + solar_generation_night) \\\n",
        "        + battery_price * (battery_charge + battery_discharge)\n",
        "\n",
        "    # Define the constraints\n",
        "    for i, demand in enumerate(load_demand):\n",
        "        problem += load_demand[i] == grid_import + solar_generation_day + solar_generation_night - grid_export \\\n",
        "            + battery_discharge - battery_charge\n",
        "\n",
        "    problem += solar_generation_day <= solar_capacity_day\n",
        "    problem += solar_generation_night <= solar_capacity_night\n",
        "    problem += battery_charge <= battery_capacity\n",
        "    problem += battery_discharge >= 100  # Minimum discharge of 100 kWh\n",
        "    problem += battery_discharge <= battery_capacity\n",
        "\n",
        "    # Solve the optimization problem\n",
        "    problem.solve()\n",
        "\n",
        "    # Store the objective value\n",
        "    objective_values.append(problem.objective.value())\n",
        "\n",
        "# Plot the changes in the objective function\n",
        "x = np.arange(1, len(load_demand_scenarios) + 1)\n",
        "plt.plot(x, objective_values, marker='o')\n",
        "plt.xlabel('Scenario')\n",
        "plt.ylabel('Objective Value')\n",
        "plt.title('Changes in Objective Function')\n",
        "plt.xticks(x)\n",
        "plt.show()\n"
      ],
      "metadata": {
        "colab": {
          "base_uri": "https://localhost:8080/",
          "height": 472
        },
        "id": "o79yhzz6DzZN",
        "outputId": "297e3ab6-1d49-46e4-8438-de9022c93d7e"
      },
      "execution_count": 10,
      "outputs": [
        {
          "output_type": "display_data",
          "data": {
            "text/plain": [
              "<Figure size 640x480 with 1 Axes>"
            ],
            "image/png": "[encoded data removed]"
          },
          "metadata": {}
        }
      ]
    },
    {
      "cell_type": "code",
      "source": [
        "import matplotlib.pyplot as plt\n",
        "import numpy as np\n",
        "from pulp import LpProblem, LpVariable, lpSum, LpMinimize\n",
        "\n",
        "# Define the microgrid variables\n",
        "solar_capacity_day = 100  # kW during the day\n",
        "solar_capacity_night = 0  # kW during the night\n",
        "battery_capacity = 200  # kWh\n",
        "grid_price = 0.15  # $/kWh\n",
        "solar_price = 0.1  # $/kWh\n",
        "battery_price = 0.2  # $/kWh\n",
        "\n",
        "# Define the load demand scenarios\n",
        "load_demand_scenarios = [\n",
        "    [50, 75, 150, 155, 75, 50],  # Scenario 1\n",
        "    [60, 80, 140, 150, 70, 55],  # Scenario 2\n",
        "    [70, 85, 160, 160, 80, 60]   # Scenario 3\n",
        "]\n",
        "\n",
        "# Initialize lists to store load, generation, and objective values\n",
        "loads = []\n",
        "generations = []\n",
        "objective_values = []\n",
        "\n",
        "# Iterate over the load demand scenarios\n",
        "for load_demand in load_demand_scenarios:\n",
        "    # Create the optimization problem\n",
        "    problem = LpProblem(\"Microgrid Optimization\", LpMinimize)\n",
        "\n",
        "    # Define the decision variables\n",
        "    grid_import = LpVariable(\"GridImport\", lowBound=0)\n",
        "    grid_export = LpVariable(\"GridExport\", lowBound=0)\n",
        "    solar_generation_day = LpVariable(\"SolarGenerationDay\", lowBound=0)\n",
        "    solar_generation_night = LpVariable(\"SolarGenerationNight\", lowBound=0)\n",
        "    battery_charge = LpVariable(\"BatteryCharge\", lowBound=0, upBound=100)  # Set upper bound to 100 kWh\n",
        "    battery_discharge = LpVariable(\"BatteryDischarge\", lowBound=0, upBound=100)  # Set upper bound to 100 kWh\n",
        "\n",
        "    # Define the objective function\n",
        "    problem += grid_price * (grid_import - grid_export) + solar_price * (solar_generation_day + solar_generation_night) \\\n",
        "        + battery_price * (battery_charge + battery_discharge)\n",
        "\n",
        "    # Define the constraints\n",
        "    for i, demand in enumerate(load_demand):\n",
        "        problem += load_demand[i] == grid_import + solar_generation_day + solar_generation_night - grid_export \\\n",
        "            + battery_discharge - battery_charge\n",
        "\n",
        "    problem += solar_generation_day <= solar_capacity_day\n",
        "    problem += solar_generation_night <= solar_capacity_night\n",
        "    problem += battery_charge <= battery_capacity\n",
        "    problem += battery_discharge >= 100  # Minimum discharge of 100 kWh\n",
        "    problem += battery_discharge <= battery_capacity\n",
        "\n",
        "    # Solve the optimization problem\n",
        "    problem.solve()\n",
        "\n",
        "    # Store load, generation, and objective values\n",
        "    loads.append(load_demand)\n",
        "    generations.append([solar_generation_day.varValue, solar_generation_night.varValue])\n",
        "    objective_values.append(problem.objective.value())\n",
        "\n",
        "# Convert lists to numpy arrays for easier plotting\n",
        "loads = np.array(loads)\n",
        "generations = np.array(generations)\n",
        "objective_values = np.array(objective_values)\n",
        "\n",
        "# Plot the variations in load, generation, and objective function\n",
        "x = np.arange(1, len(load_demand_scenarios) + 1)\n",
        "plt.plot(x, loads[:, 0], marker='o', label='Morning Load')\n",
        "plt.plot(x, loads[:, 1], marker='o', label='Prior Noon Load')\n",
        "\n",
        "plt.plot(x, loads[:, 2], marker='o', label='Afternoon Load')\n",
        "plt.plot(x, loads[:, 3], marker='o', label='Evening Load')\n",
        "\n",
        "plt.plot(x, generations[:, 0], marker='o', label='Solar Generation (Day)')\n",
        "plt.plot(x, generations[:, 1], marker='o', label='Solar Generation (Night)')\n",
        "\n",
        "plt.plot(x, objective_values, marker='o', label='Objective Function')\n",
        "\n",
        "plt.xlabel('Scenario')\n",
        "plt.ylabel('Value')\n",
        "plt.title('Variations in Load, Generation, and Objective Function')\n",
        "plt.xticks(x)\n",
        "plt.legend()\n",
        "plt.show()\n"
      ],
      "metadata": {
        "colab": {
          "base_uri": "https://localhost:8080/",
          "height": 472
        },
        "id": "-PVz0-ZmE8nM",
        "outputId": "2f3aaa75-564e-484e-84f2-bde0b2d7eed2"
      },
      "execution_count": 11,
      "outputs": [
        {
          "output_type": "display_data",
          "data": {
            "text/plain": [
              "<Figure size 640x480 with 1 Axes>"
            ],
            "image/png": "[encoded data removed]"
          },
          "metadata": {}
        }
      ]
    },
    {
      "cell_type": "code",
      "source": [
        "import matplotlib.pyplot as plt\n",
        "import numpy as np\n",
        "from pulp import LpProblem, LpVariable, lpSum, LpMinimize\n",
        "\n",
        "# Define the microgrid variables\n",
        "solar_capacity_day = 100  # kW during the day\n",
        "solar_capacity_night = 0  # kW during the night\n",
        "battery_capacity = 200  # kWh\n",
        "grid_price = 0.15  # $/kWh\n",
        "solar_price = 0.1  # $/kWh\n",
        "battery_price = 0.2  # $/kWh\n",
        "\n",
        "# Define the load demand scenarios\n",
        "load_demand_scenarios = [\n",
        "    [50, 75, 150, 155, 75, 50],  # Scenario 1\n",
        "    [60, 80, 140, 150, 70, 55],  # Scenario 2\n",
        "    [70, 85, 160, 160, 80, 60]   # Scenario 3\n",
        "]\n",
        "\n",
        "# Initialize lists to store load, generation, and objective values\n",
        "loads = []\n",
        "generations = []\n",
        "objective_values = []\n",
        "\n",
        "# Iterate over the load demand scenarios\n",
        "for load_demand in load_demand_scenarios:\n",
        "    # Create the optimization problem\n",
        "    problem = LpProblem(\"Microgrid Optimization\", LpMinimize)\n",
        "\n",
        "    # Define the decision variables\n",
        "    grid_import = LpVariable(\"GridImport\", lowBound=0)\n",
        "    grid_export = LpVariable(\"GridExport\", lowBound=0)\n",
        "    solar_generation_day = LpVariable(\"SolarGenerationDay\", lowBound=0)\n",
        "    solar_generation_night = LpVariable(\"SolarGenerationNight\", lowBound=0)\n",
        "    battery_charge = LpVariable(\"BatteryCharge\", lowBound=0, upBound=100)  # Set upper bound to 100 kWh\n",
        "    battery_discharge = LpVariable(\"BatteryDischarge\", lowBound=0, upBound=100)  # Set upper bound to 100 kWh\n",
        "\n",
        "    # Define the objective function\n",
        "    problem += grid_price * (grid_import - grid_export) + solar_price * (solar_generation_day + solar_generation_night) \\\n",
        "        + battery_price * (battery_charge + battery_discharge)\n",
        "\n",
        "    # Define the constraints\n",
        "    for i, demand in enumerate(load_demand):\n",
        "        problem += load_demand[i] == grid_import + solar_generation_day + solar_generation_night - grid_export \\\n",
        "            + battery_discharge - battery_charge\n",
        "\n",
        "    problem += solar_generation_day <= solar_capacity_day\n",
        "    problem += solar_generation_night <= solar_capacity_night\n",
        "    problem += battery_charge <= battery_capacity\n",
        "    problem += battery_discharge >= 100  # Minimum discharge of 100 kWh\n",
        "    problem += battery_discharge <= battery_capacity\n",
        "\n",
        "    # Solve the optimization problem\n",
        "    problem.solve()\n",
        "\n",
        "    # Store load, generation, and objective values\n",
        "    loads.append(load_demand)\n",
        "    generations.append([solar_generation_day.varValue, solar_generation_night.varValue])\n",
        "    objective_values.append(problem.objective.value())\n",
        "\n",
        "# Convert lists to numpy arrays for easier plotting\n",
        "loads = np.array(loads)\n",
        "generations = np.array(generations)\n",
        "objective_values = np.array(objective_values)\n",
        "\n",
        "# Plot the variations in load, generation, and objective function using a bar chart\n",
        "x = np.arange(len(load_demand_scenarios))\n",
        "width = 0.3\n",
        "\n",
        "fig, ax = plt.subplots()\n",
        "ax.bar(x - width, loads[:, 0], width, label='Morning Load')\n",
        "ax.bar(x, loads[:, 1], width, label='Prior Noon Load')\n",
        "ax.bar(x + width, loads[:, 2], width, label='Afternoon Load')\n",
        "ax.bar(x + 2*width, loads[:, 3], width, label='Evening Load')\n",
        "\n",
        "ax.bar(x - width/2, generations[:, 0], width, label='Solar Generation (Day)')\n",
        "ax.bar(x + width/2, generations[:, 1], width, label='Solar Generation (Night)')\n",
        "\n",
        "ax.bar(x + 2.5*width, objective_values, width, label='Objective Function')\n",
        "\n",
        "ax.set_xlabel('Scenario')\n",
        "ax.set_ylabel('Value')\n",
        "ax.set_title('Power Scenarios in Sindh')\n",
        "ax.set_xticks(x)\n",
        "ax.set_xticklabels(['Scenario 1', 'Scenario 2', 'Scenario 3'])\n",
        "ax.legend()\n",
        "\n",
        "plt.show()\n"
      ],
      "metadata": {
        "colab": {
          "base_uri": "https://localhost:8080/",
          "height": 472
        },
        "id": "g53o2kIzIook",
        "outputId": "b45b2c9a-1bde-4b4b-e88d-97fb0e1cdf85"
      },
      "execution_count": 13,
      "outputs": [
        {
          "output_type": "display_data",
          "data": {
            "text/plain": [
              "<Figure size 640x480 with 1 Axes>"
            ],
            "image/png": "[encoded data removed]"
          },
          "metadata": {}
        }
      ]
    },
    {
      "cell_type": "markdown",
      "source": [
        "This code will create a microgrid with a solar PV plant and a battery. The microgrid will be simulated for 24 hours, and the cost of energy, the emissions, and the reliability will be calculated. The results will be printed to the console.\n",
        "\n",
        "To run this code, you will need to have the microgrids library installed. You can install the library using the `pip` command:\n",
        "\n",
        "```\n",
        "pip install microgrids\n",
        "```\n",
        "\n",
        "Once the library is installed, you can run the code by saving it as a Python file and then running it from the command line:\n",
        "\n",
        "```\n",
        "python my_microgrid.py\n",
        "```\n",
        "\n",
        "This will print the cost of energy, the emissions, and the reliability of the microgrid to the console.\n",
        "\n",
        "I hope this helps! Let me know if you have any other questions."
      ],
      "metadata": {
        "id": "hEdtvANX1dZL"
      }
    }
  ],
  "metadata": {
    "colab": {
      "provenance": [],
      "include_colab_link": true
    },
    "kernelspec": {
      "display_name": "Python 3",
      "name": "python3"
    }
  },
  "nbformat": 4,
  "nbformat_minor": 0
}